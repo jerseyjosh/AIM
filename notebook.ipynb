{
 "cells": [
  {
   "cell_type": "code",
   "execution_count": 12,
   "metadata": {},
   "outputs": [],
   "source": [
    "import pandas as pd\n",
    "import sqlite3\n",
    "import matplotlib.pyplot as plt"
   ]
  },
  {
   "cell_type": "code",
   "execution_count": 45,
   "metadata": {},
   "outputs": [],
   "source": [
    "with sqlite3.connect('news.db') as conn:\n",
    "    df = pd.read_sql(\"SELECT * from news_stories\", conn)"
   ]
  },
  {
   "cell_type": "code",
   "execution_count": 46,
   "metadata": {},
   "outputs": [],
   "source": [
    "df['date'] = pd.to_datetime(df['date'])\n",
    "df.set_index('date', inplace=True)\n",
    "df.drop('id', axis=1, inplace=True)\n",
    "df.sort_index(inplace=True)"
   ]
  },
  {
   "cell_type": "code",
   "execution_count": 43,
   "metadata": {},
   "outputs": [
    {
     "data": {
      "text/html": [
       "<div>\n",
       "<style scoped>\n",
       "    .dataframe tbody tr th:only-of-type {\n",
       "        vertical-align: middle;\n",
       "    }\n",
       "\n",
       "    .dataframe tbody tr th {\n",
       "        vertical-align: top;\n",
       "    }\n",
       "\n",
       "    .dataframe thead th {\n",
       "        text-align: right;\n",
       "    }\n",
       "</style>\n",
       "<table border=\"1\" class=\"dataframe\">\n",
       "  <thead>\n",
       "    <tr style=\"text-align: right;\">\n",
       "      <th></th>\n",
       "      <th>text</th>\n",
       "      <th>author</th>\n",
       "    </tr>\n",
       "    <tr>\n",
       "      <th>date</th>\n",
       "      <th></th>\n",
       "      <th></th>\n",
       "    </tr>\n",
       "  </thead>\n",
       "  <tbody>\n",
       "    <tr>\n",
       "      <th>2024-08-30</th>\n",
       "      <td>Two men who repeatedly punched and kicked anot...</td>\n",
       "      <td>newsteam</td>\n",
       "    </tr>\n",
       "    <tr>\n",
       "      <th>2024-08-31</th>\n",
       "      <td>A couple's special day could have been a disas...</td>\n",
       "      <td></td>\n",
       "    </tr>\n",
       "    <tr>\n",
       "      <th>2024-08-30</th>\n",
       "      <td>The Government is working to ensure that local...</td>\n",
       "      <td>christiebailey</td>\n",
       "    </tr>\n",
       "    <tr>\n",
       "      <th>2024-08-31</th>\n",
       "      <td>Islanders are being invited to meet and engage...</td>\n",
       "      <td>newsteam</td>\n",
       "    </tr>\n",
       "    <tr>\n",
       "      <th>2024-08-31</th>\n",
       "      <td>A fundraising festival including traditional A...</td>\n",
       "      <td>kellyfrost</td>\n",
       "    </tr>\n",
       "    <tr>\n",
       "      <th>...</th>\n",
       "      <td>...</td>\n",
       "      <td>...</td>\n",
       "    </tr>\n",
       "    <tr>\n",
       "      <th>2024-05-30</th>\n",
       "      <td>An \"innovative\" project to install holiday pod...</td>\n",
       "      <td>jamesjeune</td>\n",
       "    </tr>\n",
       "    <tr>\n",
       "      <th>2024-05-31</th>\n",
       "      <td>Some children are experimenting with drugs and...</td>\n",
       "      <td>jodieyettram</td>\n",
       "    </tr>\n",
       "    <tr>\n",
       "      <th>2024-05-30</th>\n",
       "      <td>An inquest into the death of a 52-year-old tre...</td>\n",
       "      <td>newsteam</td>\n",
       "    </tr>\n",
       "    <tr>\n",
       "      <th>2024-05-31</th>\n",
       "      <td>Police have issued an appeal for witnesses aft...</td>\n",
       "      <td>newsteam</td>\n",
       "    </tr>\n",
       "    <tr>\n",
       "      <th>2024-05-30</th>\n",
       "      <td>Health is working to improve turnaround times ...</td>\n",
       "      <td>christiebaileyweekendeditor</td>\n",
       "    </tr>\n",
       "  </tbody>\n",
       "</table>\n",
       "<p>723 rows × 2 columns</p>\n",
       "</div>"
      ],
      "text/plain": [
       "                                                         text  \\\n",
       "date                                                            \n",
       "2024-08-30  Two men who repeatedly punched and kicked anot...   \n",
       "2024-08-31  A couple's special day could have been a disas...   \n",
       "2024-08-30  The Government is working to ensure that local...   \n",
       "2024-08-31  Islanders are being invited to meet and engage...   \n",
       "2024-08-31  A fundraising festival including traditional A...   \n",
       "...                                                       ...   \n",
       "2024-05-30  An \"innovative\" project to install holiday pod...   \n",
       "2024-05-31  Some children are experimenting with drugs and...   \n",
       "2024-05-30  An inquest into the death of a 52-year-old tre...   \n",
       "2024-05-31  Police have issued an appeal for witnesses aft...   \n",
       "2024-05-30  Health is working to improve turnaround times ...   \n",
       "\n",
       "                                 author  \n",
       "date                                     \n",
       "2024-08-30                     newsteam  \n",
       "2024-08-31                               \n",
       "2024-08-30               christiebailey  \n",
       "2024-08-31                     newsteam  \n",
       "2024-08-31                   kellyfrost  \n",
       "...                                 ...  \n",
       "2024-05-30                   jamesjeune  \n",
       "2024-05-31                 jodieyettram  \n",
       "2024-05-30                     newsteam  \n",
       "2024-05-31                     newsteam  \n",
       "2024-05-30  christiebaileyweekendeditor  \n",
       "\n",
       "[723 rows x 2 columns]"
      ]
     },
     "execution_count": 43,
     "metadata": {},
     "output_type": "execute_result"
    }
   ],
   "source": []
  },
  {
   "cell_type": "code",
   "execution_count": 65,
   "metadata": {},
   "outputs": [],
   "source": [
    "df['author'] = (\n",
    "    df['author'].str\n",
    "    .replace('weekendeditor', '')\n",
    "    .replace('seniorreporter', '')\n",
    "    .replace('copy', '')\n",
    ")"
   ]
  },
  {
   "cell_type": "code",
   "execution_count": 66,
   "metadata": {},
   "outputs": [],
   "source": [
    "df['word_count'] = df['text'].str.split().apply(len)"
   ]
  },
  {
   "cell_type": "code",
   "execution_count": 70,
   "metadata": {},
   "outputs": [
    {
     "data": {
      "text/plain": [
       "Text(0.5, 0, 'Total Words')"
      ]
     },
     "execution_count": 70,
     "metadata": {},
     "output_type": "execute_result"
    },
    {
     "data": {
      "image/png": "[encoded data removed]",
      "text/plain": [
       "<Figure size 640x480 with 1 Axes>"
      ]
     },
     "metadata": {},
     "output_type": "display_data"
    }
   ],
   "source": [
    "df.groupby('author')['word_count'].sum().sort_values().plot(kind='barh')\n",
    "plt.xlabel('Total Words')"
   ]
  },
  {
   "cell_type": "code",
   "execution_count": null,
   "metadata": {},
   "outputs": [],
   "source": []
  }
 ],
 "metadata": {
  "kernelspec": {
   "display_name": "venv",
   "language": "python",
   "name": "python3"
  },
  "language_info": {
   "codemirror_mode": {
    "name": "ipython",
    "version": 3
   },
   "file_extension": ".py",
   "mimetype": "text/x-python",
   "name": "python",
   "nbconvert_exporter": "python",
   "pygments_lexer": "ipython3",
   "version": "3.9.6"
  }
 },
 "nbformat": 4,
 "nbformat_minor": 2
}
